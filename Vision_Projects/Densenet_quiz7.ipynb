{
  "nbformat": 4,
  "nbformat_minor": 0,
  "metadata": {
    "colab": {
      "name": "Densenet_quiz7.ipynb",
      "version": "0.3.2",
      "provenance": [],
      "collapsed_sections": []
    },
    "kernelspec": {
      "name": "python3",
      "display_name": "Python 3"
    },
    "accelerator": "GPU"
  },
  "cells": [
    {
      "cell_type": "markdown",
      "metadata": {
        "id": "aNyZv-Ec52ot",
        "colab_type": "text"
      },
      "source": [
        "# **Import Libraries and modules**"
      ]
    },
    {
      "cell_type": "code",
      "metadata": {
        "id": "3m3w1Cw49Zkt",
        "colab_type": "code",
        "colab": {
          "base_uri": "https://localhost:8080/",
          "height": 34
        },
        "outputId": "c30bf6dd-b9ef-4102-bd19-f553fb575e7a"
      },
      "source": [
        "# https://keras.io/\n",
        "import datetime\n",
        "!pip install -q keras\n",
        "import keras\n",
        "print(datetime.datetime.now())"
      ],
      "execution_count": 12,
      "outputs": [
        {
          "output_type": "stream",
          "text": [
            "2019-06-23 03:05:02.338079\n"
          ],
          "name": "stdout"
        }
      ]
    },
    {
      "cell_type": "code",
      "metadata": {
        "id": "Eso6UHE080D4",
        "colab_type": "code",
        "colab": {
          "base_uri": "https://localhost:8080/",
          "height": 34
        },
        "outputId": "d1d37e6b-d028-4b7a-ab24-2606fab4b190"
      },
      "source": [
        "import numpy as np\n",
        "\n",
        "from keras.models import Sequential\n",
        "from keras.layers import Dense, Dropout, Activation, Flatten, Add\n",
        "from keras.layers import Convolution2D, MaxPooling2D\n",
        "from keras.utils import np_utils\n",
        "#from keras.layers.merge import concatenate\n",
        "\n",
        "from keras.datasets import mnist\n",
        "print(datetime.datetime.now())"
      ],
      "execution_count": 13,
      "outputs": [
        {
          "output_type": "stream",
          "text": [
            "2019-06-23 03:05:04.489375\n"
          ],
          "name": "stdout"
        }
      ]
    },
    {
      "cell_type": "markdown",
      "metadata": {
        "id": "zByEi95J86RD",
        "colab_type": "text"
      },
      "source": [
        "### Load pre-shuffled MNIST data into train and test sets"
      ]
    },
    {
      "cell_type": "code",
      "metadata": {
        "id": "7eRM0QWN83PV",
        "colab_type": "code",
        "colab": {
          "base_uri": "https://localhost:8080/",
          "height": 34
        },
        "outputId": "a60b0914-f9d1-4ff6-b756-76b65cd27b57"
      },
      "source": [
        "(X_train, y_train), (X_test, y_test) = mnist.load_data()\n",
        "print(datetime.datetime.now())"
      ],
      "execution_count": 14,
      "outputs": [
        {
          "output_type": "stream",
          "text": [
            "2019-06-23 03:05:09.597226\n"
          ],
          "name": "stdout"
        }
      ]
    },
    {
      "cell_type": "code",
      "metadata": {
        "id": "4a4Be72j8-ZC",
        "colab_type": "code",
        "colab": {
          "base_uri": "https://localhost:8080/",
          "height": 303
        },
        "outputId": "09b28bb2-1d53-4418-f3ac-33e8ae1fe004"
      },
      "source": [
        "print (X_train.shape)\n",
        "from matplotlib import pyplot as plt\n",
        "%matplotlib inline\n",
        "plt.imshow(X_train[0])\n",
        "print(datetime.datetime.now())"
      ],
      "execution_count": 15,
      "outputs": [
        {
          "output_type": "stream",
          "text": [
            "(60000, 28, 28)\n",
            "2019-06-23 03:05:11.385269\n"
          ],
          "name": "stdout"
        },
        {
          "output_type": "display_data",
          "data": {
            "image/png": "[encoded data removed]",
            "text/plain": [
              "<Figure size 432x288 with 1 Axes>"
            ]
          },
          "metadata": {
            "tags": []
          }
        }
      ]
    },
    {
      "cell_type": "code",
      "metadata": {
        "id": "dkmprriw9AnZ",
        "colab_type": "code",
        "colab": {
          "base_uri": "https://localhost:8080/",
          "height": 34
        },
        "outputId": "b5bf3f9b-a178-4660-923d-16fd6a543f0d"
      },
      "source": [
        "X_train = X_train.reshape(X_train.shape[0], 28, 28,1)\n",
        "X_test = X_test.reshape(X_test.shape[0], 28, 28,1)\n",
        "print(datetime.datetime.now())"
      ],
      "execution_count": 16,
      "outputs": [
        {
          "output_type": "stream",
          "text": [
            "2019-06-23 03:05:18.131575\n"
          ],
          "name": "stdout"
        }
      ]
    },
    {
      "cell_type": "code",
      "metadata": {
        "id": "X2m4YS4E9CRh",
        "colab_type": "code",
        "colab": {
          "base_uri": "https://localhost:8080/",
          "height": 34
        },
        "outputId": "c76296ab-2604-4df7-87f0-ad76a66f3a1b"
      },
      "source": [
        "X_train = X_train.astype('float32')\n",
        "X_test = X_test.astype('float32')\n",
        "X_train /= 255\n",
        "X_test /= 255\n",
        "print(datetime.datetime.now())"
      ],
      "execution_count": 18,
      "outputs": [
        {
          "output_type": "stream",
          "text": [
            "2019-06-23 03:05:24.844085\n"
          ],
          "name": "stdout"
        }
      ]
    },
    {
      "cell_type": "code",
      "metadata": {
        "id": "0Mn0vAYD9DvB",
        "colab_type": "code",
        "colab": {
          "base_uri": "https://localhost:8080/",
          "height": 34
        },
        "outputId": "3662ddac-8422-4ebb-f8ad-312afd0afc3c"
      },
      "source": [
        "y_train[:10]\n",
        "print(datetime.datetime.now())"
      ],
      "execution_count": 19,
      "outputs": [
        {
          "output_type": "stream",
          "text": [
            "2019-06-23 03:05:28.950762\n"
          ],
          "name": "stdout"
        }
      ]
    },
    {
      "cell_type": "code",
      "metadata": {
        "id": "ZG8JiXR39FHC",
        "colab_type": "code",
        "colab": {
          "base_uri": "https://localhost:8080/",
          "height": 34
        },
        "outputId": "d1941ce9-48ce-46f0-ba96-13399f8312a9"
      },
      "source": [
        "# Convert 1-dimensional class arrays to 10-dimensional class matrices\n",
        "Y_train = np_utils.to_categorical(y_train, 10)\n",
        "Y_test = np_utils.to_categorical(y_test, 10)\n",
        "print(datetime.datetime.now())"
      ],
      "execution_count": 20,
      "outputs": [
        {
          "output_type": "stream",
          "text": [
            "2019-06-23 03:05:30.817675\n"
          ],
          "name": "stdout"
        }
      ]
    },
    {
      "cell_type": "code",
      "metadata": {
        "id": "fYlFRvKS9HMB",
        "colab_type": "code",
        "colab": {
          "base_uri": "https://localhost:8080/",
          "height": 34
        },
        "outputId": "906fdede-449e-4e9d-8433-97a7b45734a8"
      },
      "source": [
        "Y_train[:10]\n",
        "print(datetime.datetime.now())"
      ],
      "execution_count": 21,
      "outputs": [
        {
          "output_type": "stream",
          "text": [
            "2019-06-23 03:05:32.883013\n"
          ],
          "name": "stdout"
        }
      ]
    },
    {
      "cell_type": "code",
      "metadata": {
        "id": "osKqT73Q9JJB",
        "colab_type": "code",
        "colab": {
          "base_uri": "https://localhost:8080/",
          "height": 241
        },
        "outputId": "e2f04c9f-6f2b-41bc-b30f-09c1dea2089c"
      },
      "source": [
        "## MAIN BLOCK\n",
        "\n",
        "from keras.layers import Activation\n",
        "from keras.utils import plot_model\n",
        "from keras.models import Model\n",
        "from keras.layers import Input\n",
        "from keras.layers import Dense\n",
        "from keras.layers import Flatten\n",
        "from keras.layers.convolutional import Conv2D, Conv1D ,SeparableConv2D ,DepthwiseConv2D ,Conv3D\n",
        "from keras.layers.pooling import MaxPooling2D\n",
        "from keras.layers.merge import concatenate\n",
        "from keras.layers import Lambda\n",
        "x1 = Input(shape=(28,28,1))\n",
        "x2 = Conv2D(32, 3, 3 , border_mode='same',activation='relu')(x1)\n",
        "add1 = concatenate([x1,x2])\n",
        "x3 = Conv2D(32, 3, 3 , border_mode='same',activation='relu')(add1)\n",
        "add2 = concatenate([x1,x2,x3])\n",
        "\n",
        "\n",
        "x4 = MaxPooling2D(pool_size=(2, 2))(add2)\n",
        "#x4 = Convolution2D(16, (1,1), activation='relu')(x4)\n",
        "\n",
        "x5 = Conv2D(32, 3, 3 , border_mode='same',activation='relu')(x4)\n",
        "add3 = concatenate([x4,x5])\n",
        "x6 = Conv2D(32, 3, 3 , border_mode='same',activation='relu')(add3)\n",
        "add4 = concatenate([x4,x5,x6])\n",
        "x7 = Conv2D(32, 3, 3 , border_mode='same',activation='relu')(add4)\n",
        "add5= concatenate([x5,x6,x7])\n",
        "\n",
        "x8 = MaxPooling2D(pool_size=(2, 2))(add5)\n",
        "#x8 = Convolution2D(16, (1,1), activation='relu')(x8)\n",
        "\n",
        "x9 = Conv2D(32, 3, 3 , border_mode='same',activation='relu')(x8)\n",
        "add6 = concatenate([x8,x9])\n",
        "x10 =  Conv2D(32, 3, 3 , border_mode='same',activation='relu')(add6)\n",
        "add7 = concatenate([x8,x9,x10])\n",
        "x11 =  Conv2D(80, 3, 3 , border_mode='same',activation='relu')(add7)\n",
        "final = Conv2D(10, 7, 7,activation='relu')(x11)\n",
        "final1 = Activation('softmax')(final)\n",
        "output1=Flatten()(final1)\n",
        "output=output1\n",
        "\n",
        "\n",
        "\n",
        "print(datetime.datetime.now())"
      ],
      "execution_count": 76,
      "outputs": [
        {
          "output_type": "stream",
          "text": [
            "2019-06-23 04:05:00.392415\n"
          ],
          "name": "stdout"
        },
        {
          "output_type": "stream",
          "text": [
            "/usr/local/lib/python3.6/dist-packages/ipykernel_launcher.py:13: UserWarning: Update your `Conv2D` call to the Keras 2 API: `Conv2D(32, (3, 3), activation=\"relu\", padding=\"same\")`\n",
            "  del sys.path[0]\n",
            "/usr/local/lib/python3.6/dist-packages/ipykernel_launcher.py:15: UserWarning: Update your `Conv2D` call to the Keras 2 API: `Conv2D(32, (3, 3), activation=\"relu\", padding=\"same\")`\n",
            "  from ipykernel import kernelapp as app\n",
            "/usr/local/lib/python3.6/dist-packages/ipykernel_launcher.py:22: UserWarning: Update your `Conv2D` call to the Keras 2 API: `Conv2D(32, (3, 3), activation=\"relu\", padding=\"same\")`\n",
            "/usr/local/lib/python3.6/dist-packages/ipykernel_launcher.py:24: UserWarning: Update your `Conv2D` call to the Keras 2 API: `Conv2D(32, (3, 3), activation=\"relu\", padding=\"same\")`\n",
            "/usr/local/lib/python3.6/dist-packages/ipykernel_launcher.py:26: UserWarning: Update your `Conv2D` call to the Keras 2 API: `Conv2D(32, (3, 3), activation=\"relu\", padding=\"same\")`\n",
            "/usr/local/lib/python3.6/dist-packages/ipykernel_launcher.py:32: UserWarning: Update your `Conv2D` call to the Keras 2 API: `Conv2D(32, (3, 3), activation=\"relu\", padding=\"same\")`\n",
            "/usr/local/lib/python3.6/dist-packages/ipykernel_launcher.py:34: UserWarning: Update your `Conv2D` call to the Keras 2 API: `Conv2D(32, (3, 3), activation=\"relu\", padding=\"same\")`\n",
            "/usr/local/lib/python3.6/dist-packages/ipykernel_launcher.py:36: UserWarning: Update your `Conv2D` call to the Keras 2 API: `Conv2D(80, (3, 3), activation=\"relu\", padding=\"same\")`\n",
            "/usr/local/lib/python3.6/dist-packages/ipykernel_launcher.py:37: UserWarning: Update your `Conv2D` call to the Keras 2 API: `Conv2D(10, (7, 7), activation=\"relu\")`\n"
          ],
          "name": "stderr"
        }
      ]
    },
    {
      "cell_type": "code",
      "metadata": {
        "id": "TzdAYg1k9K7Z",
        "colab_type": "code",
        "colab": {
          "base_uri": "https://localhost:8080/",
          "height": 1054
        },
        "outputId": "aa3114be-5bde-4a0c-c53b-6e9d44beb827"
      },
      "source": [
        "model=Sequential()\n",
        "model=Model(inputs=[x1], outputs=[output])\n",
        "model.summary()\n",
        "\n",
        "print(datetime.datetime.now())"
      ],
      "execution_count": 77,
      "outputs": [
        {
          "output_type": "stream",
          "text": [
            "__________________________________________________________________________________________________\n",
            "Layer (type)                    Output Shape         Param #     Connected to                     \n",
            "==================================================================================================\n",
            "input_18 (InputLayer)           (None, 28, 28, 1)    0                                            \n",
            "__________________________________________________________________________________________________\n",
            "conv2d_159 (Conv2D)             (None, 28, 28, 32)   320         input_18[0][0]                   \n",
            "__________________________________________________________________________________________________\n",
            "concatenate_120 (Concatenate)   (None, 28, 28, 33)   0           input_18[0][0]                   \n",
            "                                                                 conv2d_159[0][0]                 \n",
            "__________________________________________________________________________________________________\n",
            "conv2d_160 (Conv2D)             (None, 28, 28, 32)   9536        concatenate_120[0][0]            \n",
            "__________________________________________________________________________________________________\n",
            "concatenate_121 (Concatenate)   (None, 28, 28, 65)   0           input_18[0][0]                   \n",
            "                                                                 conv2d_159[0][0]                 \n",
            "                                                                 conv2d_160[0][0]                 \n",
            "__________________________________________________________________________________________________\n",
            "max_pooling2d_35 (MaxPooling2D) (None, 14, 14, 65)   0           concatenate_121[0][0]            \n",
            "__________________________________________________________________________________________________\n",
            "conv2d_161 (Conv2D)             (None, 14, 14, 32)   18752       max_pooling2d_35[0][0]           \n",
            "__________________________________________________________________________________________________\n",
            "concatenate_122 (Concatenate)   (None, 14, 14, 97)   0           max_pooling2d_35[0][0]           \n",
            "                                                                 conv2d_161[0][0]                 \n",
            "__________________________________________________________________________________________________\n",
            "conv2d_162 (Conv2D)             (None, 14, 14, 32)   27968       concatenate_122[0][0]            \n",
            "__________________________________________________________________________________________________\n",
            "concatenate_123 (Concatenate)   (None, 14, 14, 129)  0           max_pooling2d_35[0][0]           \n",
            "                                                                 conv2d_161[0][0]                 \n",
            "                                                                 conv2d_162[0][0]                 \n",
            "__________________________________________________________________________________________________\n",
            "conv2d_163 (Conv2D)             (None, 14, 14, 32)   37184       concatenate_123[0][0]            \n",
            "__________________________________________________________________________________________________\n",
            "concatenate_124 (Concatenate)   (None, 14, 14, 96)   0           conv2d_161[0][0]                 \n",
            "                                                                 conv2d_162[0][0]                 \n",
            "                                                                 conv2d_163[0][0]                 \n",
            "__________________________________________________________________________________________________\n",
            "max_pooling2d_36 (MaxPooling2D) (None, 7, 7, 96)     0           concatenate_124[0][0]            \n",
            "__________________________________________________________________________________________________\n",
            "conv2d_164 (Conv2D)             (None, 7, 7, 32)     27680       max_pooling2d_36[0][0]           \n",
            "__________________________________________________________________________________________________\n",
            "concatenate_125 (Concatenate)   (None, 7, 7, 128)    0           max_pooling2d_36[0][0]           \n",
            "                                                                 conv2d_164[0][0]                 \n",
            "__________________________________________________________________________________________________\n",
            "conv2d_165 (Conv2D)             (None, 7, 7, 32)     36896       concatenate_125[0][0]            \n",
            "__________________________________________________________________________________________________\n",
            "concatenate_126 (Concatenate)   (None, 7, 7, 160)    0           max_pooling2d_36[0][0]           \n",
            "                                                                 conv2d_164[0][0]                 \n",
            "                                                                 conv2d_165[0][0]                 \n",
            "__________________________________________________________________________________________________\n",
            "conv2d_166 (Conv2D)             (None, 7, 7, 80)     115280      concatenate_126[0][0]            \n",
            "__________________________________________________________________________________________________\n",
            "conv2d_167 (Conv2D)             (None, 1, 1, 10)     39210       conv2d_166[0][0]                 \n",
            "__________________________________________________________________________________________________\n",
            "activation_17 (Activation)      (None, 1, 1, 10)     0           conv2d_167[0][0]                 \n",
            "__________________________________________________________________________________________________\n",
            "flatten_14 (Flatten)            (None, 10)           0           activation_17[0][0]              \n",
            "==================================================================================================\n",
            "Total params: 312,826\n",
            "Trainable params: 312,826\n",
            "Non-trainable params: 0\n",
            "__________________________________________________________________________________________________\n",
            "2019-06-23 04:05:05.496820\n"
          ],
          "name": "stdout"
        }
      ]
    },
    {
      "cell_type": "code",
      "metadata": {
        "id": "Zp6SuGrL9M3h",
        "colab_type": "code",
        "colab": {
          "base_uri": "https://localhost:8080/",
          "height": 34
        },
        "outputId": "3fe43887-65bc-4cba-9957-9531e3dc336e"
      },
      "source": [
        "model.compile(loss='categorical_crossentropy',\n",
        "             optimizer='adam',\n",
        "             metrics=['accuracy'])\n",
        "print(datetime.datetime.now())"
      ],
      "execution_count": 78,
      "outputs": [
        {
          "output_type": "stream",
          "text": [
            "2019-06-23 04:05:11.298610\n"
          ],
          "name": "stdout"
        }
      ]
    },
    {
      "cell_type": "code",
      "metadata": {
        "id": "4xWoKhPY9Of5",
        "colab_type": "code",
        "colab": {
          "base_uri": "https://localhost:8080/",
          "height": 408
        },
        "outputId": "5a5fbd92-a63f-447d-d804-7486677d1caf"
      },
      "source": [
        "model.fit(X_train, Y_train, batch_size=32, nb_epoch=10, verbose=1)\n",
        "print(datetime.datetime.now())"
      ],
      "execution_count": 79,
      "outputs": [
        {
          "output_type": "stream",
          "text": [
            "/usr/local/lib/python3.6/dist-packages/ipykernel_launcher.py:1: UserWarning: The `nb_epoch` argument in `fit` has been renamed `epochs`.\n",
            "  \"\"\"Entry point for launching an IPython kernel.\n"
          ],
          "name": "stderr"
        },
        {
          "output_type": "stream",
          "text": [
            "Epoch 1/10\n",
            "60000/60000 [==============================] - 18s 299us/step - loss: 1.4971 - acc: 0.3902\n",
            "Epoch 2/10\n",
            "60000/60000 [==============================] - 16s 270us/step - loss: 1.2795 - acc: 0.4617\n",
            "Epoch 3/10\n",
            "60000/60000 [==============================] - 16s 263us/step - loss: 1.1733 - acc: 0.5024\n",
            "Epoch 4/10\n",
            "60000/60000 [==============================] - 16s 261us/step - loss: 0.9486 - acc: 0.5986\n",
            "Epoch 5/10\n",
            "60000/60000 [==============================] - 16s 261us/step - loss: 0.9327 - acc: 0.6024\n",
            "Epoch 6/10\n",
            "60000/60000 [==============================] - 16s 261us/step - loss: 0.9267 - acc: 0.6031\n",
            "Epoch 7/10\n",
            "60000/60000 [==============================] - 16s 262us/step - loss: 0.9256 - acc: 0.6034\n",
            "Epoch 8/10\n",
            "60000/60000 [==============================] - 16s 261us/step - loss: 0.9215 - acc: 0.6041\n",
            "Epoch 9/10\n",
            "60000/60000 [==============================] - 16s 263us/step - loss: 0.9197 - acc: 0.6047\n",
            "Epoch 10/10\n",
            "60000/60000 [==============================] - 16s 261us/step - loss: 0.9177 - acc: 0.6047\n",
            "2019-06-23 04:07:54.474819\n"
          ],
          "name": "stdout"
        }
      ]
    },
    {
      "cell_type": "code",
      "metadata": {
        "id": "AtsH-lLk-eLb",
        "colab_type": "code",
        "colab": {
          "base_uri": "https://localhost:8080/",
          "height": 34
        },
        "outputId": "ec56fc77-6d8b-4285-dcca-eaef59d7e291"
      },
      "source": [
        "score = model.evaluate(X_test, Y_test, verbose=0)\n",
        "print(datetime.datetime.now())"
      ],
      "execution_count": 80,
      "outputs": [
        {
          "output_type": "stream",
          "text": [
            "2019-06-23 04:08:19.027502\n"
          ],
          "name": "stdout"
        }
      ]
    },
    {
      "cell_type": "code",
      "metadata": {
        "id": "mkX8JMv79q9r",
        "colab_type": "code",
        "colab": {
          "base_uri": "https://localhost:8080/",
          "height": 51
        },
        "outputId": "c73fb582-4fec-472b-9794-35de5e9a509f"
      },
      "source": [
        "print(score)\n",
        "print(datetime.datetime.now())"
      ],
      "execution_count": 81,
      "outputs": [
        {
          "output_type": "stream",
          "text": [
            "[0.9325510641098023, 0.6038]\n",
            "2019-06-23 04:08:21.729616\n"
          ],
          "name": "stdout"
        }
      ]
    }
  ]
}